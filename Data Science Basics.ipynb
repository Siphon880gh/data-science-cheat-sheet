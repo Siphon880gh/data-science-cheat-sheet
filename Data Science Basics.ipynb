{
 "cells": [
  {
   "cell_type": "markdown",
   "id": "ade3325c",
   "metadata": {},
   "source": [
    "# Data Science\n",
    "\n",
    "## By Weng Fei Fung\n",
    "\n",
    "Here I explore some basic loading into Pandas dataframes for analysis and table printing. I also explore some basic plotting with matplotlib. This will become a basic cheat sheet."
   ]
  },
  {
   "cell_type": "code",
   "execution_count": 88,
   "id": "6f7366f1",
   "metadata": {
    "scrolled": true
   },
   "outputs": [
    {
     "name": "stdout",
     "output_type": "stream",
     "text": [
      "\n",
      "Request API for JSON, Perform Dictionary Manipulation, Then Load into Dataframe\n",
      "--------------------------------------------------------------------------------\n",
      "Pikachu's abilities from pokedex API\n",
      "{\"abilities\": [{\"ability\": {\"name...\n",
      "\n",
      "\n",
      "                                        ability_json\n",
      "0  {\"name\": \"static\", \"url\": \"https://pokeapi.co/...\n",
      "1  {\"name\": \"lightning-rod\", \"url\": \"https://poke...\n"
     ]
    }
   ],
   "source": [
    "import json\n",
    "import requests\n",
    "import pandas as pd\n",
    "from io import StringIO\n",
    "\n",
    "\n",
    "print(\"\"\"\n",
    "Request API for JSON, Perform Dictionary Manipulation, Then Load into Dataframe\n",
    "--------------------------------------------------------------------------------\"\"\");\n",
    "\n",
    "data = requests.get(\"https://pokeapi.co/api/v2/pokemon/pikachu\");\n",
    "dict = data.json();\n",
    "json_str = json.dumps(dict);\n",
    "\n",
    "print(\"\"\"Pikachu's abilities from pokedex API\n",
    "\"\"\"\n",
    "+\n",
    "json_str[0:33] + \"...\");\n",
    "\n",
    "print(\"\\n\")\n",
    "\n",
    "\n",
    "data = [json.dumps(row[\"ability\"]) for row in dict[\"abilities\"]];\n",
    "df0 = pd.DataFrame(data, columns=[\"ability_json\"])\n",
    "print(df0);\n",
    "\n"
   ]
  },
  {
   "cell_type": "code",
   "execution_count": null,
   "id": "3932a02a",
   "metadata": {},
   "outputs": [],
   "source": []
  }
 ],
 "metadata": {
  "kernelspec": {
   "display_name": "Python 3 (ipykernel)",
   "language": "python",
   "name": "python3"
  },
  "language_info": {
   "codemirror_mode": {
    "name": "ipython",
    "version": 3
   },
   "file_extension": ".py",
   "mimetype": "text/x-python",
   "name": "python",
   "nbconvert_exporter": "python",
   "pygments_lexer": "ipython3",
   "version": "3.9.12"
  }
 },
 "nbformat": 4,
 "nbformat_minor": 5
}
