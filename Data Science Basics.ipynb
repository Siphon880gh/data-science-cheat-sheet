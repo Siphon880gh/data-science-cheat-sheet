{
 "cells": [
  {
   "cell_type": "markdown",
   "id": "ffb8bde5",
   "metadata": {},
   "source": [
    "# Data Science\n",
    "\n",
    "## By Weng Fei Fung\n",
    "\n",
    "Here I explore some basic loading into Pandas dataframes for analysis and table printing. I also explore some basic plotting with matplotlib. This will become a basic cheat sheet."
   ]
  },
  {
   "cell_type": "code",
   "execution_count": 98,
   "id": "03dae35e",
   "metadata": {
    "scrolled": true
   },
   "outputs": [
    {
     "name": "stdout",
     "output_type": "stream",
     "text": [
      "\n",
      "-------------------------------------------------------------------------\n",
      "Request API, Perform Dictionary Manipulation, Then Load into Dataframe\n",
      "-------------------------------------------------------------------------\n",
      "Pikachu's abilities from pokedex API\n",
      "{\"abilities\": [{\"ability\": {\"name...\n",
      "\n",
      "\n",
      "                                        ability_json\n",
      "0  {\"name\": \"static\", \"url\": \"https://pokeapi.co/...\n",
      "1  {\"name\": \"lightning-rod\", \"url\": \"https://poke...\n",
      "\n",
      "----------------------------------\n",
      "Load JSON String into Dataframes\n",
      "And Renaming Row Indexes\n",
      "----------------------------------\n",
      "\n",
      "            Sleep Onset  Woke\n",
      "2023-01-01         2300   800\n",
      "2023-01-02         2300   800\n"
     ]
    }
   ],
   "source": [
    "import json\n",
    "import requests\n",
    "import pandas as pd\n",
    "\n",
    "# Python multiline strings are delimited with three double quotes \"\"\"...\"\"\"\n",
    "print(\"\"\"\n",
    "-------------------------------------------------------------------------\n",
    "Request API, Perform Dictionary Manipulation, Then Load into Dataframe\n",
    "-------------------------------------------------------------------------\"\"\");\n",
    "\n",
    "data = requests.get(\"https://pokeapi.co/api/v2/pokemon/pikachu\");\n",
    "\n",
    "# Convert API Response to Dictionary\n",
    "dict = data.json();\n",
    "\n",
    "# Dump Dictionary into a JSON String\n",
    "json_str = json.dumps(dict);\n",
    "\n",
    "# Substring\n",
    "print(\"\"\"Pikachu's abilities from pokedex API\n",
    "\"\"\"\n",
    "+\n",
    "json_str[0:33] + \"...\");\n",
    "\n",
    "print(\"\\n\")\n",
    "\n",
    "# Display Dataframe\n",
    "# Use list comprehension to create a list from a for-loop\n",
    "data = [json.dumps(row[\"ability\"]) for row in dict[\"abilities\"]];\n",
    "df0 = pd.DataFrame(data, columns=[\"ability_json\"])\n",
    "print(df0);\n",
    "\n",
    "# ================================================================================================ #\n"
   ]
  },
  {
   "cell_type": "code",
   "execution_count": null,
   "id": "e87efd1a",
   "metadata": {},
   "outputs": [],
   "source": [
    "import json\n",
    "import requests\n",
    "import pandas as pd\n",
    "\n",
    "print(\"\"\"\n",
    "----------------------------------\n",
    "Load JSON String into Dataframes\n",
    "And Renaming Row Indexes\n",
    "----------------------------------\n",
    "\"\"\");\n",
    "\n",
    "# Notice each dictionary in the list is a row and the JSON keys become the column indexes\n",
    "df1 = pd.read_json('[{\"Sleep Onset\":\"2300\",\"Woke\":\"0800\"},{\"Sleep Onset\":\"2300\",\"Woke\":\"0800\"}]');\n",
    "\n",
    "# Rename the row indexes from 0,1... to dates\n",
    "df1 = df1.rename(index={0: '2023-01-01', 1: '2023-01-02'});\n",
    "print(df1);\n",
    "\n"
   ]
  }
 ],
 "metadata": {
  "kernelspec": {
   "display_name": "Python 3 (ipykernel)",
   "language": "python",
   "name": "python3"
  },
  "language_info": {
   "codemirror_mode": {
    "name": "ipython",
    "version": 3
   },
   "file_extension": ".py",
   "mimetype": "text/x-python",
   "name": "python",
   "nbconvert_exporter": "python",
   "pygments_lexer": "ipython3",
   "version": "3.9.12"
  }
 },
 "nbformat": 4,
 "nbformat_minor": 5
}
