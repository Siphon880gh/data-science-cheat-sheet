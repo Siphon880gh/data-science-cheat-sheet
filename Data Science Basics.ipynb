{
 "cells": [
  {
   "cell_type": "markdown",
   "id": "0424ad1d",
   "metadata": {},
   "source": [
    "# Data Science\n",
    "\n",
    "## By Weng Fei Fung\n",
    "\n",
    "Here I explore some basic loading into Pandas dataframes for analysis and table printing. I also explore some basic plotting with matplotlib."
   ]
  },
  {
   "cell_type": "code",
   "execution_count": 76,
   "id": "d37aa55e",
   "metadata": {
    "scrolled": true
   },
   "outputs": [
    {
     "name": "stdout",
     "output_type": "stream",
     "text": [
      "\n",
      "Load API into Python data structure\n",
      "----------------------------------\n",
      "eg.\n",
      "{\n",
      "\"abilities\": [ \n",
      "  {\"ability\": {\"name\": \"static\", \"url\": \"https://pokeapi.co/api/v2/ability/9/\"}, \"is_hidden\": false, \"slot\": 1},\n",
      "  {\"ability\": {\"name\": \"lightning-rod\",\"url\": \"https://pokeapi.co/api/v2/ability/31/\"},\"is_hidden\": true,\"slot\": 3}\n",
      "],\n",
      "...\n",
      "\n",
      "{\"abilitie\n",
      "                                        ability_text\n",
      "0  {\"name\": \"static\", \"url\": \"https://pokeapi.co/...\n",
      "1  {\"name\": \"lightning-rod\", \"url\": \"https://poke...\n",
      "\n",
      "Load JSON String into Dataframes\n",
      "----------------------------------\n",
      "\n",
      "    a   b\n",
      "0   1   2\n",
      "1  11  12\n",
      "\n",
      "Load Excel as CSV into Dataframes\n",
      "----------------------------------\n",
      "\n",
      "\n",
      "Load String as CSV into Dataframes\n",
      "----------------------------------\n",
      "\n",
      "    a   b\n",
      "0   1   2\n",
      "1  11  12\n",
      "\n",
      "\n",
      "\n",
      "Load Python Dictionary into Dataframes\n",
      "----------------------------------\n",
      "\n",
      "   bench_sets  muscle_growth\n",
      "0           0              2\n",
      "1           1              2\n",
      "2           2              3\n",
      "3           3              4\n",
      "4           4              4\n",
      "5           5              4\n",
      "6           6              4\n",
      "7           7              4\n",
      "8           8              4\n",
      "9           9              4\n"
     ]
    }
   ],
   "source": [
    "import json\n",
    "import requests\n",
    "import pandas as pd\n",
    "from io import StringIO\n",
    "\n",
    "\n",
    "print(\"\"\"\n",
    "Load API into Python data structure\n",
    "----------------------------------\n",
    "{\n",
    "\"abilities\": [ \n",
    "  {\"ability\": {\"name\": \"static\", \"url\": \"https://pokeapi.co/api/v2/ability/9/\"}, \"is_hidden\": false, \"slot\": 1},\n",
    "  {\"ability\": {\"name\": \"lightning-rod\",\"url\": \"https://pokeapi.co/api/v2/ability/31/\"},\"is_hidden\": true,\"slot\": 3}\n",
    "],\n",
    "...\n",
    "\"\"\");\n",
    "\n",
    "data = requests.get(\"https://pokeapi.co/api/v2/pokemon/pikachu\");\n",
    "dict = data.json();\n",
    "json_str = json.dumps(dict);\n",
    "print(json_str[0:10]);\n",
    "\n",
    "data = [json.dumps(row[\"ability\"]) for row in dict[\"abilities\"]];\n",
    "df0 = pd.DataFrame(data, columns=[\"ability_text\"])\n",
    "print(df0);\n",
    "\n"
   ]
  },
  {
   "cell_type": "code",
   "execution_count": null,
   "id": "abeafa2b",
   "metadata": {},
   "outputs": [],
   "source": []
  }
 ],
 "metadata": {
  "kernelspec": {
   "display_name": "Python 3 (ipykernel)",
   "language": "python",
   "name": "python3"
  },
  "language_info": {
   "codemirror_mode": {
    "name": "ipython",
    "version": 3
   },
   "file_extension": ".py",
   "mimetype": "text/x-python",
   "name": "python",
   "nbconvert_exporter": "python",
   "pygments_lexer": "ipython3",
   "version": "3.9.12"
  }
 },
 "nbformat": 4,
 "nbformat_minor": 5
}
