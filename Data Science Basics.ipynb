{
 "cells": [
  {
   "cell_type": "markdown",
   "id": "e468cefa",
   "metadata": {},
   "source": [
    "# Data Science\n",
    "\n",
    "## By Weng Fei Fung\n",
    "\n",
    "Here I explore some basic loading into Pandas dataframes for analysis and table printing. I also explore some basic plotting with matplotlib. This will become a basic cheat sheet."
   ]
  },
  {
   "cell_type": "code",
   "execution_count": 99,
   "id": "7d7dc32b",
   "metadata": {
    "scrolled": true
   },
   "outputs": [
    {
     "name": "stdout",
     "output_type": "stream",
     "text": [
      "\n",
      "-------------------------------------------------------------------------\n",
      "Request API, Perform Dictionary Manipulation, Then Load into Dataframe\n",
      "-------------------------------------------------------------------------\n",
      "Pikachu's abilities from pokedex API\n",
      "{\"abilities\": [{\"ability\": {\"name...\n",
      "\n",
      "\n",
      "                                        ability_json\n",
      "0  {\"name\": \"static\", \"url\": \"https://pokeapi.co/...\n",
      "1  {\"name\": \"lightning-rod\", \"url\": \"https://poke...\n"
     ]
    }
   ],
   "source": [
    "import json\n",
    "import requests\n",
    "import pandas as pd\n",
    "\n",
    "# Python multiline strings are delimited with three double quotes \"\"\"...\"\"\"\n",
    "print(\"\"\"\n",
    "-------------------------------------------------------------------------\n",
    "Request API, Perform Dictionary Manipulation, Then Load into Dataframe\n",
    "-------------------------------------------------------------------------\"\"\");\n",
    "\n",
    "data = requests.get(\"https://pokeapi.co/api/v2/pokemon/pikachu\");\n",
    "\n",
    "# Convert API Response to Dictionary\n",
    "dict = data.json();\n",
    "\n",
    "# Dump Dictionary into a JSON String\n",
    "json_str = json.dumps(dict);\n",
    "\n",
    "# Substring\n",
    "print(\"\"\"Pikachu's abilities from pokedex API\n",
    "\"\"\"\n",
    "+\n",
    "json_str[0:33] + \"...\");\n",
    "\n",
    "print(\"\\n\")\n",
    "\n",
    "# Display Dataframe\n",
    "# Use list comprehension to create a list from a for-loop\n",
    "data = [json.dumps(row[\"ability\"]) for row in dict[\"abilities\"]];\n",
    "df0 = pd.DataFrame(data, columns=[\"ability_json\"])\n",
    "print(df0);\n",
    "\n",
    "# ================================================================================================ #\n"
   ]
  },
  {
   "cell_type": "code",
   "execution_count": 100,
   "id": "70df8497",
   "metadata": {},
   "outputs": [
    {
     "name": "stdout",
     "output_type": "stream",
     "text": [
      "\n",
      "----------------------------------\n",
      "Load JSON String into Dataframes\n",
      "And Renaming Row Indexes\n",
      "----------------------------------\n",
      "\n",
      "            Sleep Onset  Woke\n",
      "2023-01-01         2300   800\n",
      "2023-01-02         2300   800\n"
     ]
    }
   ],
   "source": [
    "import json\n",
    "import requests\n",
    "import pandas as pd\n",
    "\n",
    "print(\"\"\"\n",
    "----------------------------------\n",
    "Load JSON String into Dataframes\n",
    "And Renaming Row Indexes\n",
    "----------------------------------\n",
    "\"\"\");\n",
    "\n",
    "# Notice each dictionary in the list is a row and the JSON keys become the column indexes\n",
    "df1 = pd.read_json('[{\"Sleep Onset\":\"2300\",\"Woke\":\"0800\"},{\"Sleep Onset\":\"2300\",\"Woke\":\"0800\"}]');\n",
    "\n",
    "# Rename the row indexes from 0,1... to dates\n",
    "df1 = df1.rename(index={0: '2023-01-01', 1: '2023-01-02'});\n",
    "print(df1);\n",
    "\n"
   ]
  },
  {
   "cell_type": "code",
   "execution_count": 105,
   "id": "143c32b9",
   "metadata": {},
   "outputs": [
    {
     "name": "stdout",
     "output_type": "stream",
     "text": [
      "\n",
      "----------------------------------\n",
      "Convert Excel file into CSV File\n",
      "Load CSV file into Dataframe\n",
      "----------------------------------\n",
      "\n",
      "   Stage           Duration  \\\n",
      "1      1   20-30 mins total   \n",
      "2      2   45-60 mins total   \n",
      "3      3   60-90 mins total   \n",
      "4      4  90-120 mins total   \n",
      "\n",
      "                                Running instructions  \\\n",
      "1  You will be slower than the other runners at f...   \n",
      "2  Try minimizing walking breaks and focus on mai...   \n",
      "3  Try minimizing walking breaks and focus on mai...   \n",
      "4  Try minimizing walking breaks and focus on mai...   \n",
      "\n",
      "                   Frequency days/week  \\\n",
      "1   3+ times / week to build endurance   \n",
      "2  4-5 times / week to build endurance   \n",
      "3  5-6 times / week to build endurance   \n",
      "4  6-7 times / week to build endurance   \n",
      "\n",
      "                                            Distance  \\\n",
      "1                                        Don't worry   \n",
      "2  Add extra km or mile to one of your runs each ...   \n",
      "3  Aim to increase your weekly mileage gradually....   \n",
      "4  Aim to increase your weekly mileage gradually....   \n",
      "\n",
      "                                                Pace  \\\n",
      "1             Take frequent walking breaks as needed   \n",
      "2  Aim for a pace that's challenging but sustaina...   \n",
      "3  Aim for a pace that's challenging but sustaina...   \n",
      "4  Consider incorporating some speed work and tem...   \n",
      "\n",
      "                                           Rest Days  \n",
      "1    Light stretching, cross-training, or just relax  \n",
      "2  Cross-train to prevent injury and improve over...  \n",
      "3  Continue to incorporate cross-training into yo...  \n",
      "4   Incorporate regular strength training into yo...  \n"
     ]
    }
   ],
   "source": [
    "import json\n",
    "import pandas as pd\n",
    "\n",
    "print(\"\"\"\n",
    "----------------------------------\n",
    "Load CSV file into Dataframe\n",
    "convert Excel file into CSV File\n",
    "----------------------------------\n",
    "\"\"\");\n",
    "\n",
    "# Read Excel spreadsheet\n",
    "df2 = pd.read_excel(\"data/Runs.xlsx\", sheet_name=\"Protocol\")\n",
    "\n",
    "# Write to CSV file\n",
    "df2.to_csv(\"reports/Runs.csv\", index=False);\n",
    "\n",
    "# Read CSV file into Dataframe\n",
    "df22 = pd.read_csv('reports/Runs.csv')\n",
    "df22 = df22.rename(index={0:1,1:2,2:3,3:4})\n",
    "print(df22);"
   ]
  }
 ],
 "metadata": {
  "kernelspec": {
   "display_name": "Python 3 (ipykernel)",
   "language": "python",
   "name": "python3"
  },
  "language_info": {
   "codemirror_mode": {
    "name": "ipython",
    "version": 3
   },
   "file_extension": ".py",
   "mimetype": "text/x-python",
   "name": "python",
   "nbconvert_exporter": "python",
   "pygments_lexer": "ipython3",
   "version": "3.9.12"
  }
 },
 "nbformat": 4,
 "nbformat_minor": 5
}
